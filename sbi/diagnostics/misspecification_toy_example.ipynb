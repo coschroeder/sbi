{
 "cells": [
  {
   "cell_type": "code",
   "execution_count": 1,
   "metadata": {},
   "outputs": [
    {
     "name": "stdout",
     "output_type": "stream",
     "text": [
      "/Users/swagatam/miniconda3/envs/sbi_dev/bin/python\n",
      "Python 3.10.16\n"
     ]
    }
   ],
   "source": [
    "!which python; python --version"
   ]
  },
  {
   "cell_type": "code",
   "execution_count": 2,
   "metadata": {},
   "outputs": [
    {
     "name": "stderr",
     "output_type": "stream",
     "text": [
      "/Users/swagatam/miniconda3/envs/sbi_dev/lib/python3.10/site-packages/tqdm/auto.py:21: TqdmWarning: IProgress not found. Please update jupyter and ipywidgets. See https://ipywidgets.readthedocs.io/en/stable/user_install.html\n",
      "  from .autonotebook import tqdm as notebook_tqdm\n"
     ]
    }
   ],
   "source": [
    "import numpy as np\n",
    "import matplotlib.pyplot as plt\n",
    "import torch\n",
    "import torch.nn as nn\n",
    "import torch.nn.functional as F\n",
    "import torch.distributions as dist\n",
    "\n",
    "seed = 2025\n",
    "torch.manual_seed(seed);\n",
    "\n",
    "from sbi.analysis import pairplot\n",
    "from sbi.inference import NPE, simulate_for_sbi\n",
    "from sbi.utils import BoxUniform\n",
    "from sbi.utils.user_input_checks import (\n",
    "    check_sbi_inputs,\n",
    "    process_prior,\n",
    "    process_simulator,\n",
    ")"
   ]
  },
  {
   "cell_type": "code",
   "execution_count": 3,
   "metadata": {},
   "outputs": [],
   "source": [
    "from sbi.diagnostics.misspecification import calculate_p_misspecification"
   ]
  },
  {
   "cell_type": "markdown",
   "metadata": {},
   "source": [
    "### Define true (well-specified) and misspecified priors\n",
    "We only handle prior misspecification for now.\n",
    "- True prior -- the $x_{obs}$ will come from this\n",
    "- Misspecified prior -- the NPE will be trained on $(\\theta, x)$ pairs coming from this prior\n",
    "- Simulator code is same in both cases"
   ]
  },
  {
   "cell_type": "code",
   "execution_count": 4,
   "metadata": {},
   "outputs": [],
   "source": [
    "dim = 2 # observation dimension\n",
    "# true prior -- the observation comes from here\n",
    "mean_true = torch.zeros(dim)\n",
    "cov_true = torch.eye(dim)\n",
    "prior_true = dist.MultivariateNormal(loc=mean_true, covariance_matrix=cov_true)\n",
    "\n",
    "# the NPE will be trained on samples from this misspecified prior\n",
    "def give_misspec_prior(mu0, tau0):\n",
    "    if mu0.ndim > 1:\n",
    "        raise ValueError(\n",
    "                \"mu0 should be a 1d tensor of shape [dim]\"\n",
    "            )\n",
    "    dim = mu0.shape[0]\n",
    "    return dist.MultivariateNormal(loc=mu0, covariance_matrix=tau0*torch.eye(dim))\n",
    "\n",
    "offset = 3\n",
    "mu0 = mean_true + offset # just offset, applies in all directions\n",
    "tau0 = 1.0 # 1.0 means no change in covariance matrix\n",
    "prior_mis = give_misspec_prior(mu0, tau0)\n",
    "\n",
    "def simulator(theta):\n",
    "    return theta + torch.randn_like(theta)"
   ]
  },
  {
   "cell_type": "code",
   "execution_count": 5,
   "metadata": {},
   "outputs": [
    {
     "name": "stderr",
     "output_type": "stream",
     "text": [
      "/var/folders/qp/4w02sqhj6_d43815lhzjb7900000gn/T/ipykernel_32863/3152808367.py:2: FutureWarning: `sample_n(n)` will be deprecated. Use `sample((n,))` instead.\n",
      "  prior_mis.sample_n(100_000).mean(0), prior_true.sample_n(100_000).mean(0)\n"
     ]
    },
    {
     "data": {
      "text/plain": [
       "(tensor([2.9984, 2.9970]), tensor([-0.0022,  0.0043]))"
      ]
     },
     "execution_count": 5,
     "metadata": {},
     "output_type": "execute_result"
    }
   ],
   "source": [
    "# test\n",
    "prior_mis.sample_n(100_000).mean(0), prior_true.sample_n(100_000).mean(0)"
   ]
  },
  {
   "cell_type": "markdown",
   "metadata": {},
   "source": [
    "### Create dataset, i.e., $(\\theta, x)$ pairs to train NPEs\n",
    "We will have 2 datasets:\n",
    "- one case is for the well-specified prior\n",
    "- the second is the misspecified prior\n",
    "\n",
    "We will also generate a validation dataset, to compute \"self MMD\" or the distribution of MMDs to ultimately check"
   ]
  },
  {
   "cell_type": "code",
   "execution_count": 6,
   "metadata": {},
   "outputs": [
    {
     "name": "stdout",
     "output_type": "stream",
     "text": [
      "torch.Size([1000, 2]) torch.Size([1000, 2]) torch.Size([1000, 2]) torch.Size([1000, 2])\n"
     ]
    }
   ],
   "source": [
    "num_simulations = 1000 # K in the paper\n",
    "\n",
    "# generate training data for clean/well-specified model\n",
    "theta_well = prior_true.sample((num_simulations, ))\n",
    "x_well = simulator(theta_well)\n",
    "\n",
    "\n",
    "# generate training data from misspecified model, currently only supports prior misspecification\n",
    "# note that we are sampling theta from a misspecified (wrt x_obs) prior\n",
    "theta_mis = prior_mis.sample((num_simulations, )) \n",
    "x_mis = simulator(theta_mis)\n",
    "\n",
    "\n",
    "# validation set to compute MMD distribution in the well-specified case\n",
    "# this could just be a subset of the training data\n",
    "num_validations_mmd = 1000\n",
    "theta_val_well = prior_true.sample((num_validations_mmd, ))\n",
    "x_val_well = simulator(theta_val_well)\n",
    "\n",
    "\n",
    "# validation set to compute MMD distribution in the misspecified case\n",
    "theta_val_mis = prior_mis.sample((num_validations_mmd, ))\n",
    "x_val_mis = simulator(theta_val_mis)\n",
    "\n",
    "print(theta_well.shape, theta_mis.shape, theta_val_well.shape, theta_val_mis.shape)"
   ]
  },
  {
   "cell_type": "markdown",
   "metadata": {},
   "source": [
    "### NPE training utilities with and without embedding networks"
   ]
  },
  {
   "cell_type": "code",
   "execution_count": 7,
   "metadata": {},
   "outputs": [],
   "source": [
    "from sbi.neural_nets.embedding_nets import FCEmbedding, PermutationInvariantEmbedding\n",
    "from sbi.neural_nets import posterior_nn\n",
    "\n",
    "def train_npe(theta, x, prior, **kwargs):\n",
    "    inference = NPE(prior=prior, **kwargs)\n",
    "    inference = inference.append_simulations(theta, x)\n",
    "    _ = inference.train()\n",
    "    return inference\n",
    "\n",
    "def train_npe_with_embedding(theta, x, prior, embeddding_net, **kwargs):\n",
    "    neural_posterior = posterior_nn(model='maf', embedding_net=embeddding_net)\n",
    "    inference = NPE(prior=prior, density_estimator=neural_posterior, **kwargs)\n",
    "    inference = inference.append_simulations(theta, x)\n",
    "    _ = inference.train()\n",
    "    return inference"
   ]
  },
  {
   "cell_type": "markdown",
   "metadata": {},
   "source": [
    "### Train NPEs for 4 cases"
   ]
  },
  {
   "cell_type": "code",
   "execution_count": 8,
   "metadata": {},
   "outputs": [
    {
     "name": "stdout",
     "output_type": "stream",
     "text": [
      " Neural network successfully converged after 155 epochs."
     ]
    }
   ],
   "source": [
    "# Case1: train NPE with well specified model without embedding\n",
    "NPE_well = train_npe(theta_well, x_well, prior=prior_true)\n",
    "\n",
    "# Case2: train NPE with misspecified model without embedding\n",
    "NPE_mis = train_npe(theta_mis, x_mis, prior=prior_mis)\n",
    "\n",
    "# Case3: with embeddings, no misspec\n",
    "emb_net_well = FCEmbedding(input_dim=dim, output_dim=dim, num_layers=2, num_hiddens=20) # minimal embedding network\n",
    "NPE_well_embd = train_npe_with_embedding(theta_well, x_well, prior=prior_true, embeddding_net=emb_net_well) # modified the emb_net\n",
    "\n",
    "# Case4: with embeddings, misspec\n",
    "emb_net_mis = FCEmbedding(input_dim=dim, output_dim=dim, num_layers=2, num_hiddens=20)\n",
    "NPE_mis_embd = train_npe_with_embedding(theta_mis, x_mis, prior=prior_mis, embeddding_net=emb_net_mis) # modifies the emb_net"
   ]
  },
  {
   "cell_type": "code",
   "execution_count": 22,
   "metadata": {},
   "outputs": [
    {
     "data": {
      "text/plain": [
       "(Sequential(\n",
       "   (0): Standardize()\n",
       "   (1): FCEmbedding(\n",
       "     (net): Sequential(\n",
       "       (0): Linear(in_features=2, out_features=20, bias=True)\n",
       "       (1): ReLU()\n",
       "       (2): Linear(in_features=20, out_features=2, bias=True)\n",
       "       (3): ReLU()\n",
       "     )\n",
       "   )\n",
       " ),\n",
       " Sequential(\n",
       "   (0): Standardize()\n",
       "   (1): Identity()\n",
       " ))"
      ]
     },
     "execution_count": 22,
     "metadata": {},
     "output_type": "execute_result"
    }
   ],
   "source": [
    "net1 = NPE_mis_embd._neural_net.embedding_net\n",
    "net2 = NPE_mis._neural_net.embedding_net\n",
    "\n",
    "net1, net2"
   ]
  },
  {
   "cell_type": "code",
   "execution_count": 38,
   "metadata": {},
   "outputs": [
    {
     "data": {
      "text/plain": [
       "True"
      ]
     },
     "execution_count": 38,
     "metadata": {},
     "output_type": "execute_result"
    }
   ],
   "source": [
    "isinstance(net2[1], nn.modules.linear.Identity)"
   ]
  },
  {
   "cell_type": "code",
   "execution_count": 36,
   "metadata": {},
   "outputs": [
    {
     "data": {
      "text/plain": [
       "Identity()"
      ]
     },
     "execution_count": 36,
     "metadata": {},
     "output_type": "execute_result"
    }
   ],
   "source": [
    "net2[1]"
   ]
  },
  {
   "cell_type": "markdown",
   "metadata": {},
   "source": [
    "### Create an observation $x_{obs}$\n",
    "Note that this observation comes from a true prior parameter"
   ]
  },
  {
   "cell_type": "code",
   "execution_count": 9,
   "metadata": {},
   "outputs": [
    {
     "name": "stdout",
     "output_type": "stream",
     "text": [
      "theta_o (comes from true prior): tensor([[0.9590, 0.6317]])\n",
      "x_o (comes from simulator using theta_o): tensor([[ 0.6227, -0.3214]])\n"
     ]
    }
   ],
   "source": [
    "# do inference given observed data\n",
    "num_observations = 1\n",
    "theta_o = prior_true.sample((num_observations, ))\n",
    "x_o = simulator(theta_o)\n",
    "\n",
    "print(f\"theta_o (comes from true prior): {theta_o}\")\n",
    "print(f\"x_o (comes from simulator using theta_o): {x_o}\")"
   ]
  },
  {
   "cell_type": "markdown",
   "metadata": {},
   "source": [
    "### Case 1: well specified model, no embeddings, so we just check MMDs on the original $x$ space\n",
    "- since the model is well-specified, we can compute MMD distribution on `x_val_well`"
   ]
  },
  {
   "cell_type": "code",
   "execution_count": 10,
   "metadata": {},
   "outputs": [
    {
     "name": "stdout",
     "output_type": "stream",
     "text": [
      "p-val: 0.968000\n"
     ]
    },
    {
     "data": {
      "image/png": "[encoded data removed]",
      "text/plain": [
       "<Figure size 640x480 with 1 Axes>"
      ]
     },
     "metadata": {},
     "output_type": "display_data"
    }
   ],
   "source": [
    "p_val, (mmds_baseline, mmd) = calculate_p_misspecification(x_o, x_val_well, n_shuffle=1000, max_samples=1000, mode=\"biased\")\n",
    "print(f\"p-val: {p_val:.6f}\")\n",
    "plt.hist(mmds_baseline.numpy(), bins=50)\n",
    "plt.axvline(mmd.item(), color=\"red\")\n",
    "plt.show()"
   ]
  },
  {
   "cell_type": "code",
   "execution_count": 11,
   "metadata": {},
   "outputs": [],
   "source": [
    "from sbi.diagnostics.misspecification import calculate_baseline_mmd, compute_rbf_mmd_median_heuristic"
   ]
  },
  {
   "cell_type": "markdown",
   "metadata": {},
   "source": [
    "### Case 2: misspecified model, no embeddings, so again we just check MMDs on the original $x$ space\n",
    "- but this time MMD distribution needs to be calculated on the misspecified data"
   ]
  },
  {
   "cell_type": "code",
   "execution_count": 12,
   "metadata": {},
   "outputs": [
    {
     "name": "stdout",
     "output_type": "stream",
     "text": [
      "p-val: 0.006000\n"
     ]
    },
    {
     "data": {
      "image/png": "[encoded data removed]",
      "text/plain": [
       "<Figure size 640x480 with 1 Axes>"
      ]
     },
     "metadata": {},
     "output_type": "display_data"
    }
   ],
   "source": [
    "# mmds_baseline = calculate_baseline_mmd(x_o, x_val_mis, n_shuffle=1000, max_samples=1000, mode=\"biased\") # 1000 mmds between the samples in x, x_obs is only needed for its shape\n",
    "# mmd = compute_rbf_mmd_median_heuristic(x_o, x_val_mis, mode=\"biased\")\n",
    "# plt.hist(mmds_baseline.numpy(), bins=50)\n",
    "# plt.axvline(mmd.item(), color=\"red\")\n",
    "# plt.show()\n",
    "\n",
    "\n",
    "p_val, (mmds_baseline, mmd) = calculate_p_misspecification(x_o, x_val_mis, n_shuffle=1000, max_samples=1000, mode=\"biased\")\n",
    "print(f\"p-val: {p_val:.6f}\")\n",
    "plt.hist(mmds_baseline.numpy(), bins=50)\n",
    "plt.axvline(mmd.item(), color=\"red\")\n",
    "plt.show()"
   ]
  },
  {
   "cell_type": "markdown",
   "metadata": {},
   "source": [
    "### Case 3: well specified model, with embeddings, so now we check MMDs on the embedded $z$ space"
   ]
  },
  {
   "cell_type": "code",
   "execution_count": 13,
   "metadata": {},
   "outputs": [],
   "source": [
    "z_val_well = emb_net_well(x_val_well).detach()\n",
    "z_o = emb_net_well(x_o).detach()"
   ]
  },
  {
   "cell_type": "code",
   "execution_count": 14,
   "metadata": {},
   "outputs": [],
   "source": [
    "# z_val_well"
   ]
  },
  {
   "cell_type": "code",
   "execution_count": 15,
   "metadata": {},
   "outputs": [
    {
     "name": "stdout",
     "output_type": "stream",
     "text": [
      "p-val: 0.914000\n"
     ]
    },
    {
     "data": {
      "image/png": "[encoded data removed]",
      "text/plain": [
       "<Figure size 640x480 with 1 Axes>"
      ]
     },
     "metadata": {},
     "output_type": "display_data"
    }
   ],
   "source": [
    "# mmds_baseline = calculate_baseline_mmd(z_o, z_val, n_shuffle=1000, max_samples=1000, mode=\"biased\")\n",
    "# mmd = compute_rbf_mmd_median_heuristic(z_o, z_val, mode=\"biased\")\n",
    "# plt.hist(mmds_baseline.numpy(), bins=50)\n",
    "# plt.axvline(mmd.item(), color=\"red\")\n",
    "# plt.show()\n",
    "\n",
    "\n",
    "p_val, (mmds_baseline, mmd) = calculate_p_misspecification(z_o, z_val_well, n_shuffle=1000, max_samples=1000, mode=\"biased\")\n",
    "print(f\"p-val: {p_val:.6f}\")\n",
    "plt.hist(mmds_baseline.numpy(), bins=50)\n",
    "plt.axvline(mmd.item(), color=\"red\")\n",
    "plt.show()"
   ]
  },
  {
   "cell_type": "markdown",
   "metadata": {},
   "source": [
    "### Case 4: misspecified model, with embeddings, so now we check MMDs on the embedded $z$ space"
   ]
  },
  {
   "cell_type": "code",
   "execution_count": 16,
   "metadata": {},
   "outputs": [],
   "source": [
    "z_val_mis = emb_net_mis(x_val_mis).detach()\n",
    "z_o = emb_net_mis(x_o).detach()"
   ]
  },
  {
   "cell_type": "code",
   "execution_count": 17,
   "metadata": {},
   "outputs": [
    {
     "data": {
      "text/plain": [
       "tensor([[1.1027, 0.0000],\n",
       "        [0.2768, 0.0000],\n",
       "        [0.9312, 0.0000],\n",
       "        ...,\n",
       "        [0.6617, 0.0000],\n",
       "        [1.2044, 0.0000],\n",
       "        [0.5643, 0.0000]])"
      ]
     },
     "execution_count": 17,
     "metadata": {},
     "output_type": "execute_result"
    }
   ],
   "source": [
    "z_val_mis"
   ]
  },
  {
   "cell_type": "code",
   "execution_count": 18,
   "metadata": {},
   "outputs": [
    {
     "name": "stdout",
     "output_type": "stream",
     "text": [
      "p-val: 0.054000\n"
     ]
    },
    {
     "data": {
      "image/png": "[encoded data removed]",
      "text/plain": [
       "<Figure size 640x480 with 1 Axes>"
      ]
     },
     "metadata": {},
     "output_type": "display_data"
    }
   ],
   "source": [
    "# mmds_baseline = calculate_baseline_mmd(z_o, z_val_mis, n_shuffle=1000, max_samples=1000, mode=\"biased\")\n",
    "# mmd = compute_rbf_mmd_median_heuristic(z_o, z_val_mis, mode=\"biased\")\n",
    "# plt.hist(mmds_baseline.numpy(), bins=50)\n",
    "# plt.axvline(mmd.item(), color=\"red\")\n",
    "# plt.show()\n",
    "\n",
    "\n",
    "p_val, (mmds_baseline, mmd) = calculate_p_misspecification(z_o, z_val_mis, n_shuffle=1000, max_samples=1000, mode=\"biased\")\n",
    "print(f\"p-val: {p_val:.6f}\")\n",
    "plt.hist(mmds_baseline.numpy(), bins=50)\n",
    "plt.axvline(mmd.item(), color=\"red\")\n",
    "plt.show()"
   ]
  },
  {
   "cell_type": "code",
   "execution_count": null,
   "metadata": {},
   "outputs": [],
   "source": []
  },
  {
   "cell_type": "code",
   "execution_count": null,
   "metadata": {},
   "outputs": [],
   "source": []
  },
  {
   "cell_type": "code",
   "execution_count": null,
   "metadata": {},
   "outputs": [],
   "source": []
  },
  {
   "cell_type": "code",
   "execution_count": null,
   "metadata": {},
   "outputs": [],
   "source": []
  },
  {
   "cell_type": "code",
   "execution_count": null,
   "metadata": {},
   "outputs": [],
   "source": []
  },
  {
   "cell_type": "code",
   "execution_count": null,
   "metadata": {},
   "outputs": [],
   "source": []
  },
  {
   "cell_type": "code",
   "execution_count": null,
   "metadata": {},
   "outputs": [],
   "source": []
  },
  {
   "cell_type": "code",
   "execution_count": null,
   "metadata": {},
   "outputs": [],
   "source": []
  }
 ],
 "metadata": {
  "kernelspec": {
   "display_name": "sbi_dev",
   "language": "python",
   "name": "python3"
  },
  "language_info": {
   "codemirror_mode": {
    "name": "ipython",
    "version": 3
   },
   "file_extension": ".py",
   "mimetype": "text/x-python",
   "name": "python",
   "nbconvert_exporter": "python",
   "pygments_lexer": "ipython3",
   "version": "3.10.16"
  }
 },
 "nbformat": 4,
 "nbformat_minor": 2
}
