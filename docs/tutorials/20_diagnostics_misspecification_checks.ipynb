{
 "cells": [
  {
   "cell_type": "markdown",
   "metadata": {},
   "source": [
    "## Model Misspecification in SBI\n",
    "\n",
    "<Introduction: ...>\n",
    "\n",
    "\n",
    "\n",
    "\n",
    "References:\n",
    "- [1] [Schmitt et al, 2024](https://arxiv.org/abs/2112.08866)\n",
    "- [2] [Kelly et al, 2025](https://arxiv.org/abs/2503.12315)\n",
    "- [3] [Gretton et al, 2012](https://www.jmlr.org/papers/volume13/gretton12a/gretton12a.pdf)"
   ]
  },
  {
   "cell_type": "code",
   "execution_count": null,
   "metadata": {},
   "outputs": [
    {
     "name": "stderr",
     "output_type": "stream",
     "text": [
      "/Users/swagatam/miniconda3/envs/sbi_dev/lib/python3.10/site-packages/tqdm/auto.py:21: TqdmWarning: IProgress not found. Please update jupyter and ipywidgets. See https://ipywidgets.readthedocs.io/en/stable/user_install.html\n",
      "  from .autonotebook import tqdm as notebook_tqdm\n"
     ]
    },
    {
     "data": {
      "text/plain": [
       "<torch._C.Generator at 0x10d6f61d0>"
      ]
     },
     "execution_count": 1,
     "metadata": {},
     "output_type": "execute_result"
    }
   ],
   "source": [
    "import matplotlib.pyplot as plt\n",
    "import torch\n",
    "import torch.distributions as dist\n",
    "\n",
    "from sbi.diagnostics.misspecification import (\n",
    "    calc_misspecification_mmd,  # Import the MMD diagnostic\n",
    ")\n",
    "from sbi.inference import NPE\n",
    "from sbi.neural_nets import posterior_nn\n",
    "from sbi.neural_nets.embedding_nets import FCEmbedding\n",
    "\n",
    "# Set seed\n",
    "seed = 2025\n",
    "torch.manual_seed(seed)"
   ]
  },
  {
   "cell_type": "markdown",
   "metadata": {},
   "source": [
    "## 1. Prior Misspecification Example on the Gaussian Simulator\n",
    "\n",
    "In this example, we work with the following simulator: the prior $\\theta \\sim \\mathcal{N}(0, I_d)$, and the observations $x|\\theta \\sim \\mathcal{N}(\\theta, I_d)$ where $d$ is the dimensionality of the problem. For the purposes of this example, we would assume the observations, i.e., $x_o$ would come from the (true) data generating process above.\n",
    "\n",
    "Now we demonstrate a concrete example of model misspecification scenario in SBI. We assume our posterior inference network (e.g., NPE) would be fitted on $(\\theta, x)$ pairs where the $\\theta$ values are sampled from $\\mathcal{N}(\\mu, I_d)$ (instead of $\\mathcal{N}(0, I_d)$, i.e., with some offset mean $\\mu$), and the corresponding observations $x$ were generated using the simulator as above. We refer to this manifestation of model misspecification as **prior misspecification**, and demonstrate how we can identify this using (one or many) observations $x_o$ during test time, following the maximum mean discrepancy (MMD) based approach outlined in [1]. \n",
    "\n",
    "The core idea of the method is to compute a distribution of MMD values among the synthetic simulations ($x$) the model was trained on, and perform an out-of-distribution/p-value check for the MMD between the synthetic simulations and the $x_o$. Since we will often encounter only one observation $x_o$ during inference, we would make use of the biased version of sample-based MMD recommended in [3]. "
   ]
  },
  {
   "cell_type": "markdown",
   "metadata": {},
   "source": [
    "### Define the ground-truth and misspecified priors\n",
    "The \"ground-truth\" prior simply means the $x_{obs}$ will come from this prior distribution through the simulator.\n",
    "The misspecified prior: the NPE will be trained on $(\\theta, x)$ pairs coming from this prior. Note that the simulator code is same in both cases."
   ]
  },
  {
   "cell_type": "code",
   "execution_count": 2,
   "metadata": {},
   "outputs": [],
   "source": [
    "dim = 2  # observation dimension\n",
    "# true prior -- the observation comes from here\n",
    "mean_true = torch.zeros(dim)\n",
    "cov_true = torch.eye(dim)\n",
    "prior_true = dist.MultivariateNormal(loc=mean_true, covariance_matrix=cov_true)\n",
    "\n",
    "\n",
    "# the NPE will be trained on samples from this misspecified prior\n",
    "def give_misspec_prior(mu0, tau0):\n",
    "    if mu0.ndim > 1:\n",
    "        raise ValueError(\"mu0 should be a 1d tensor of shape [dim]\")\n",
    "    dim = mu0.shape[0]\n",
    "    return dist.MultivariateNormal(loc=mu0, covariance_matrix=tau0 * torch.eye(dim))\n",
    "\n",
    "\n",
    "offset = 4\n",
    "mu0 = mean_true + offset  # just offset, applies in all directions\n",
    "tau0 = 1.0  # 1.0 means no change in covariance matrix\n",
    "prior_mis = give_misspec_prior(mu0, tau0)\n",
    "\n",
    "\n",
    "def simulator(theta):\n",
    "    return theta + torch.randn_like(theta)"
   ]
  },
  {
   "cell_type": "markdown",
   "metadata": {},
   "source": [
    "### Create the training dataset for the NPE, i.e., $(\\theta, x)$ pairs\n",
    "As we will see later, we can only train one NPE on the well-specified dataset, and simulate the other scenarios exploiting the symmetry present in our setting.\n",
    "We will also generate a validation dataset, to compute many _self_ MMDs or the distribution of MMDs which will be utilised later for the actual misspecification check."
   ]
  },
  {
   "cell_type": "code",
   "execution_count": 3,
   "metadata": {},
   "outputs": [
    {
     "name": "stdout",
     "output_type": "stream",
     "text": [
      "torch.Size([1000, 2]) torch.Size([1000, 2])\n"
     ]
    }
   ],
   "source": [
    "num_simulations = 1000\n",
    "\n",
    "# generate training data for clean/well-specified model\n",
    "theta_well = prior_true.sample((num_simulations,))\n",
    "x_well = simulator(theta_well)\n",
    "\n",
    "\n",
    "# validation set to compute MMD distribution in the well-specified case\n",
    "# this could just be a subset of the training data\n",
    "\n",
    "num_validations_mmd = 1000\n",
    "theta_val_well = prior_true.sample((num_validations_mmd,))\n",
    "x_val_well = simulator(theta_val_well)\n",
    "\n",
    "print(theta_well.shape, theta_val_well.shape)"
   ]
  },
  {
   "cell_type": "markdown",
   "metadata": {},
   "source": [
    "### Train our inference object\n",
    "We are only training one NPE inference with an embedding network to demonstrate the MMD-based misspecification check both on the original _x-space_ and the _embedding_ space."
   ]
  },
  {
   "cell_type": "code",
   "execution_count": 4,
   "metadata": {},
   "outputs": [
    {
     "name": "stdout",
     "output_type": "stream",
     "text": [
      " Neural network successfully converged after 199 epochs."
     ]
    }
   ],
   "source": [
    "def train_npe_with_embedding(theta, x, prior, embeddding_net, **kwargs):\n",
    "    neural_posterior = posterior_nn(model=\"maf\", embedding_net=embeddding_net)\n",
    "    inference = NPE(prior=prior, density_estimator=neural_posterior, **kwargs)\n",
    "    inference = inference.append_simulations(theta, x)\n",
    "    _ = inference.train()\n",
    "    return inference\n",
    "\n",
    "\n",
    "emb_net_well = FCEmbedding(\n",
    "    input_dim=dim, output_dim=dim, num_layers=2, num_hiddens=20\n",
    ")  # minimal embedding network\n",
    "NPE_well_embd = train_npe_with_embedding(\n",
    "    theta_well, x_well, prior=prior_true, embeddding_net=emb_net_well\n",
    ")  # modified the emb_net"
   ]
  },
  {
   "cell_type": "markdown",
   "metadata": {},
   "source": [
    "### Create the observations $x_{obs}$ to do inference\n",
    "We will generate two observations: one from the ground-truth prior to demonstrate the case where we **do not** have any model misspecification. The second observation will be generated from the misspecified prior to _simulate_ the model misspecification scenario when our inference was trained on the misspecified data, but the observation comes from the ground-truth prior. "
   ]
  },
  {
   "cell_type": "code",
   "execution_count": 5,
   "metadata": {},
   "outputs": [],
   "source": [
    "# do inference given observed data\n",
    "num_observations = 1\n",
    "theta_o = prior_true.sample((num_observations,))\n",
    "x_o = simulator(theta_o)\n",
    "\n",
    "# print(f\"theta_o (comes from true prior): {theta_o}\")\n",
    "# print(f\"x_o (comes from simulator using theta_o): {x_o}\")\n",
    "\n",
    "# we can also create observation from the misspecified prior x_o_mis\n",
    "theta_o_mis = prior_mis.sample((num_observations,))\n",
    "x_o_mis = simulator(theta_o_mis)\n",
    "\n",
    "# print(f\"theta_o_mis (comes from misspecified prior): {theta_o_mis}\")\n",
    "# print(f\"x_o_mis (comes from simulator using theta_o_mis): {x_o_mis}\")"
   ]
  },
  {
   "cell_type": "code",
   "execution_count": 6,
   "metadata": {},
   "outputs": [
    {
     "data": {
      "image/png": "[encoded data removed]",
      "text/plain": [
       "<Figure size 640x480 with 1 Axes>"
      ]
     },
     "metadata": {},
     "output_type": "display_data"
    }
   ],
   "source": [
    "plt.plot(x_val_well[:, 0], x_val_well[:, 1], \"o\", label=\"well-specified x\")\n",
    "plt.plot(x_o_mis[:, 0], x_o_mis[:, 1], \"o\", color=\"red\", label=r\"mis-specified $x_o$\")\n",
    "plt.legend(loc='lower right')\n",
    "plt.show()"
   ]
  },
  {
   "cell_type": "markdown",
   "metadata": {},
   "source": [
    "### Misspecification detection\n",
    "Here we only demonstrate misspecification detection on the embedding space. Note that the corresponding scenarios on the x-space could be simply tested by passing `inference=None` and `mode=x_space` in the functions below."
   ]
  },
  {
   "cell_type": "code",
   "execution_count": 7,
   "metadata": {},
   "outputs": [
    {
     "name": "stdout",
     "output_type": "stream",
     "text": [
      "p-val: 0.501000\n"
     ]
    },
    {
     "data": {
      "image/png": "[encoded data removed]",
      "text/plain": [
       "<Figure size 640x480 with 1 Axes>"
      ]
     },
     "metadata": {},
     "output_type": "display_data"
    }
   ],
   "source": [
    "p_val, (mmds_baseline, mmd) = calc_misspecification_mmd(\n",
    "    inference=NPE_well_embd, x_obs=x_o, x=x_val_well, mode='embedding'\n",
    ")\n",
    "\n",
    "print(f\"p-val: {p_val:.6f}\")\n",
    "plt.hist(mmds_baseline.numpy(), bins=50)\n",
    "plt.axvline(mmd.item(), color=\"red\", label=r'MMD(x, $x_o$)')\n",
    "\n",
    "plt.ylabel('Count')\n",
    "plt.xlabel('MMD')\n",
    "\n",
    "plt.legend()\n",
    "\n",
    "plt.show()"
   ]
  },
  {
   "cell_type": "markdown",
   "metadata": {},
   "source": [
    "**Interpretation:** In the above example, the observed data $x_o$ comes from the same ground truth prior as what the NPE estimator was trained on. As detected by the check above, the $p$-value for the null hypothesis $H_0$ (that the distribution of MMDs between samples in `x_val_well` (intra) and the distribution of MMDs between `x_val_well` and `x_o` are same) came out to be $0.501 \\gt 0.05$, so we fail to reject the null hypothesis, i.e., no misspecification is detected in this case.\n",
    "\n",
    "Now we turn to the situation where there is a misspecification."
   ]
  },
  {
   "cell_type": "code",
   "execution_count": 8,
   "metadata": {},
   "outputs": [
    {
     "name": "stdout",
     "output_type": "stream",
     "text": [
      "p-val: 0.0\n"
     ]
    },
    {
     "data": {
      "image/png": "[encoded data removed]",
      "text/plain": [
       "<Figure size 640x480 with 1 Axes>"
      ]
     },
     "metadata": {},
     "output_type": "display_data"
    }
   ],
   "source": [
    "p_val, (mmds_baseline, mmd) = calc_misspecification_mmd(\n",
    "    inference=NPE_well_embd, x_obs=x_o_mis, x=x_val_well, mode='embedding'\n",
    ")\n",
    "\n",
    "print(f\"p-val: {p_val}\")\n",
    "plt.hist(mmds_baseline.numpy(), bins=50)\n",
    "plt.axvline(mmd.item(), color=\"red\", label=r'MMD(x, $x_o$)')\n",
    "plt.ylabel('Count')\n",
    "plt.xlabel('MMD')\n",
    "plt.legend()\n",
    "plt.show()"
   ]
  },
  {
   "cell_type": "markdown",
   "metadata": {},
   "source": [
    "As expected, in this case the $p$-value is $0.0$ so we reject the null hypothesis, and can warn the user that there might be mismatch in distribution between the observed sample $x_o$, and the dataset on which the inference network was trained on."
   ]
  },
  {
   "cell_type": "code",
   "execution_count": null,
   "metadata": {},
   "outputs": [],
   "source": []
  },
  {
   "cell_type": "code",
   "execution_count": null,
   "metadata": {},
   "outputs": [],
   "source": []
  },
  {
   "cell_type": "code",
   "execution_count": null,
   "metadata": {},
   "outputs": [],
   "source": []
  },
  {
   "cell_type": "code",
   "execution_count": null,
   "metadata": {},
   "outputs": [],
   "source": []
  },
  {
   "cell_type": "code",
   "execution_count": null,
   "metadata": {},
   "outputs": [],
   "source": []
  },
  {
   "cell_type": "code",
   "execution_count": null,
   "metadata": {},
   "outputs": [],
   "source": []
  },
  {
   "cell_type": "code",
   "execution_count": null,
   "metadata": {},
   "outputs": [],
   "source": []
  },
  {
   "cell_type": "code",
   "execution_count": null,
   "metadata": {},
   "outputs": [],
   "source": []
  }
 ],
 "metadata": {
  "kernelspec": {
   "display_name": "sbi_dev",
   "language": "python",
   "name": "python3"
  },
  "language_info": {
   "codemirror_mode": {
    "name": "ipython",
    "version": 3
   },
   "file_extension": ".py",
   "mimetype": "text/x-python",
   "name": "python",
   "nbconvert_exporter": "python",
   "pygments_lexer": "ipython3",
   "version": "3.10.16"
  }
 },
 "nbformat": 4,
 "nbformat_minor": 2
}
